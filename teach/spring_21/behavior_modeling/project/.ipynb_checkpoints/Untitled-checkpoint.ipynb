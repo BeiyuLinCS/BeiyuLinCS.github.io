{
 "cells": [
  {
   "cell_type": "code",
   "execution_count": null,
   "metadata": {},
   "outputs": [],
   "source": [
    "# install pacakges"
   ]
  },
  {
   "cell_type": "code",
   "execution_count": 24,
   "metadata": {
    "collapsed": true
   },
   "outputs": [
    {
     "name": "stdout",
     "output_type": "stream",
     "text": [
      "Requirement already satisfied: pandas in /Users/BeiyuLin/Library/Python/3.7/lib/python/site-packages (0.24.2)\n",
      "Requirement already satisfied: numpy>=1.12.0 in /usr/local/lib/python3.7/site-packages (from pandas) (1.18.4)\n",
      "Requirement already satisfied: pytz>=2011k in /usr/local/lib/python3.7/site-packages (from pandas) (2019.2)\n",
      "Requirement already satisfied: python-dateutil>=2.5.0 in /usr/local/lib/python3.7/site-packages (from pandas) (2.7.3)\n",
      "Requirement already satisfied: six>=1.5 in /usr/local/lib/python3.7/site-packages (from python-dateutil>=2.5.0->pandas) (1.11.0)\n",
      "\u001b[33mWARNING: You are using pip version 20.2.4; however, version 21.0.1 is available.\n",
      "You should consider upgrading via the '/usr/local/opt/python/bin/python3.7 -m pip install --upgrade pip' command.\u001b[0m\n",
      "Collecting seaborn\n",
      "  Downloading seaborn-0.11.1-py3-none-any.whl (285 kB)\n",
      "\u001b[K     |████████████████████████████████| 285 kB 584 kB/s eta 0:00:01\n",
      "\u001b[?25hRequirement already satisfied: scipy>=1.0 in /usr/local/lib/python3.7/site-packages (from seaborn) (1.1.0)\n",
      "Requirement already satisfied: matplotlib>=2.2 in /Users/BeiyuLin/Library/Python/3.7/lib/python/site-packages (from seaborn) (3.1.0)\n",
      "Requirement already satisfied: pandas>=0.23 in /Users/BeiyuLin/Library/Python/3.7/lib/python/site-packages (from seaborn) (0.24.2)\n",
      "Requirement already satisfied: numpy>=1.15 in /usr/local/lib/python3.7/site-packages (from seaborn) (1.18.4)\n",
      "Requirement already satisfied: pyparsing!=2.0.4,!=2.1.2,!=2.1.6,>=2.0.1 in /usr/local/lib/python3.7/site-packages (from matplotlib>=2.2->seaborn) (2.4.2)\n",
      "Requirement already satisfied: python-dateutil>=2.1 in /usr/local/lib/python3.7/site-packages (from matplotlib>=2.2->seaborn) (2.7.3)\n",
      "Requirement already satisfied: kiwisolver>=1.0.1 in /usr/local/lib/python3.7/site-packages (from matplotlib>=2.2->seaborn) (1.1.0)\n",
      "Requirement already satisfied: cycler>=0.10 in /usr/local/lib/python3.7/site-packages (from matplotlib>=2.2->seaborn) (0.10.0)\n",
      "Requirement already satisfied: pytz>=2011k in /usr/local/lib/python3.7/site-packages (from pandas>=0.23->seaborn) (2019.2)\n",
      "Requirement already satisfied: six>=1.5 in /usr/local/lib/python3.7/site-packages (from python-dateutil>=2.1->matplotlib>=2.2->seaborn) (1.11.0)\n",
      "Requirement already satisfied: setuptools in /usr/local/lib/python3.7/site-packages (from kiwisolver>=1.0.1->matplotlib>=2.2->seaborn) (41.2.0)\n",
      "Installing collected packages: seaborn\n",
      "Successfully installed seaborn-0.11.1\n",
      "\u001b[33mWARNING: You are using pip version 20.2.4; however, version 21.0.1 is available.\n",
      "You should consider upgrading via the '/usr/local/opt/python/bin/python3.7 -m pip install --upgrade pip' command.\u001b[0m\n"
     ]
    }
   ],
   "source": [
    "!pip install pandas\n",
    "!pip install seaborn "
   ]
  },
  {
   "cell_type": "code",
   "execution_count": 25,
   "metadata": {},
   "outputs": [],
   "source": [
    "import pandas as pd\n",
    "import numpy as np\n",
    "import seaborn as sns"
   ]
  },
  {
   "cell_type": "code",
   "execution_count": 26,
   "metadata": {
    "collapsed": true
   },
   "outputs": [
    {
     "name": "stdout",
     "output_type": "stream",
     "text": [
      "<class 'pandas.core.frame.DataFrame'>\n",
      "RangeIndex: 224736 entries, 0 to 224735\n",
      "Data columns (total 12 columns):\n",
      "tripduration               224736 non-null int64\n",
      "starttime                  224736 non-null object\n",
      "stoptime                   224736 non-null object\n",
      "start station id           224736 non-null int64\n",
      "start station latitude     224736 non-null float64\n",
      "start station longitude    224736 non-null float64\n",
      "end station id             224736 non-null int64\n",
      "end station latitude       224736 non-null float64\n",
      "end station longitude      224736 non-null float64\n",
      "bikeid                     224736 non-null int64\n",
      "birth year                 224736 non-null object\n",
      "gender                     224736 non-null int64\n",
      "dtypes: float64(4), int64(5), object(3)\n",
      "memory usage: 20.6+ MB\n"
     ]
    }
   ],
   "source": [
    "df = pd.read_csv('sample.csv')\n",
    "df.info()"
   ]
  },
  {
   "cell_type": "code",
   "execution_count": 27,
   "metadata": {},
   "outputs": [
    {
     "data": {
      "text/plain": [
       "<matplotlib.axes._subplots.AxesSubplot at 0x11857a290>"
      ]
     },
     "execution_count": 27,
     "metadata": {},
     "output_type": "execute_result"
    },
    {
     "data": {
      "image/png": "[encoded data removed]",
      "text/plain": [
       "<Figure size 432x288 with 2 Axes>"
      ]
     },
     "metadata": {
      "needs_background": "light"
     },
     "output_type": "display_data"
    }
   ],
   "source": [
    "sns.heatmap(df.isnull(), cmap='viridis')"
   ]
  },
  {
   "cell_type": "code",
   "execution_count": 35,
   "metadata": {},
   "outputs": [
    {
     "ename": "SyntaxError",
     "evalue": "(unicode error) 'unicodeescape' codec can't decode bytes in position 0-1: malformed \\N character escape (<ipython-input-35-7a93aeb6c172>, line 3)",
     "output_type": "error",
     "traceback": [
      "\u001b[0;36m  File \u001b[0;32m\"<ipython-input-35-7a93aeb6c172>\"\u001b[0;36m, line \u001b[0;32m3\u001b[0m\n\u001b[0;31m    sub = \"\\N\"\u001b[0m\n\u001b[0m         ^\u001b[0m\n\u001b[0;31mSyntaxError\u001b[0m\u001b[0;31m:\u001b[0m (unicode error) 'unicodeescape' codec can't decode bytes in position 0-1: malformed \\N character escape\n"
     ]
    }
   ],
   "source": [
    "# df = df.dropna(subset=['bikeid'])\n",
    "# df.dtypes\n",
    "sub = \"\\N\"\n",
    "df['bikeid'].str.find(sub)"
   ]
  },
  {
   "cell_type": "code",
   "execution_count": 4,
   "metadata": {},
   "outputs": [
    {
     "data": {
      "text/html": [
       "<div>\n",
       "<style scoped>\n",
       "    .dataframe tbody tr th:only-of-type {\n",
       "        vertical-align: middle;\n",
       "    }\n",
       "\n",
       "    .dataframe tbody tr th {\n",
       "        vertical-align: top;\n",
       "    }\n",
       "\n",
       "    .dataframe thead th {\n",
       "        text-align: right;\n",
       "    }\n",
       "</style>\n",
       "<table border=\"1\" class=\"dataframe\">\n",
       "  <thead>\n",
       "    <tr style=\"text-align: right;\">\n",
       "      <th></th>\n",
       "      <th>tripduration</th>\n",
       "      <th>starttime</th>\n",
       "      <th>stoptime</th>\n",
       "      <th>start station id</th>\n",
       "      <th>start station latitude</th>\n",
       "      <th>start station longitude</th>\n",
       "      <th>end station id</th>\n",
       "      <th>end station latitude</th>\n",
       "      <th>end station longitude</th>\n",
       "      <th>bikeid</th>\n",
       "      <th>birth year</th>\n",
       "      <th>gender</th>\n",
       "    </tr>\n",
       "  </thead>\n",
       "  <tbody>\n",
       "    <tr>\n",
       "      <th>0</th>\n",
       "      <td>382</td>\n",
       "      <td>2/1/14 0:00</td>\n",
       "      <td>2/1/14 0:06</td>\n",
       "      <td>294</td>\n",
       "      <td>40.730494</td>\n",
       "      <td>-73.995721</td>\n",
       "      <td>265</td>\n",
       "      <td>40.722293</td>\n",
       "      <td>-73.991475</td>\n",
       "      <td>21101</td>\n",
       "      <td>1991</td>\n",
       "      <td>1</td>\n",
       "    </tr>\n",
       "    <tr>\n",
       "      <th>1</th>\n",
       "      <td>372</td>\n",
       "      <td>2/1/14 0:00</td>\n",
       "      <td>2/1/14 0:06</td>\n",
       "      <td>285</td>\n",
       "      <td>40.734546</td>\n",
       "      <td>-73.990741</td>\n",
       "      <td>439</td>\n",
       "      <td>40.726281</td>\n",
       "      <td>-73.989780</td>\n",
       "      <td>15456</td>\n",
       "      <td>1979</td>\n",
       "      <td>2</td>\n",
       "    </tr>\n",
       "    <tr>\n",
       "      <th>2</th>\n",
       "      <td>591</td>\n",
       "      <td>2/1/14 0:00</td>\n",
       "      <td>2/1/14 0:10</td>\n",
       "      <td>247</td>\n",
       "      <td>40.735354</td>\n",
       "      <td>-74.004831</td>\n",
       "      <td>251</td>\n",
       "      <td>40.723180</td>\n",
       "      <td>-73.994800</td>\n",
       "      <td>16281</td>\n",
       "      <td>1948</td>\n",
       "      <td>2</td>\n",
       "    </tr>\n",
       "    <tr>\n",
       "      <th>3</th>\n",
       "      <td>583</td>\n",
       "      <td>2/1/14 0:00</td>\n",
       "      <td>2/1/14 0:10</td>\n",
       "      <td>357</td>\n",
       "      <td>40.732618</td>\n",
       "      <td>-73.991580</td>\n",
       "      <td>284</td>\n",
       "      <td>40.739017</td>\n",
       "      <td>-74.002638</td>\n",
       "      <td>17400</td>\n",
       "      <td>1981</td>\n",
       "      <td>1</td>\n",
       "    </tr>\n",
       "    <tr>\n",
       "      <th>4</th>\n",
       "      <td>223</td>\n",
       "      <td>2/1/14 0:00</td>\n",
       "      <td>2/1/14 0:04</td>\n",
       "      <td>401</td>\n",
       "      <td>40.720196</td>\n",
       "      <td>-73.989978</td>\n",
       "      <td>439</td>\n",
       "      <td>40.726281</td>\n",
       "      <td>-73.989780</td>\n",
       "      <td>19341</td>\n",
       "      <td>1990</td>\n",
       "      <td>1</td>\n",
       "    </tr>\n",
       "  </tbody>\n",
       "</table>\n",
       "</div>"
      ],
      "text/plain": [
       "   tripduration    starttime     stoptime  start station id  \\\n",
       "0           382  2/1/14 0:00  2/1/14 0:06               294   \n",
       "1           372  2/1/14 0:00  2/1/14 0:06               285   \n",
       "2           591  2/1/14 0:00  2/1/14 0:10               247   \n",
       "3           583  2/1/14 0:00  2/1/14 0:10               357   \n",
       "4           223  2/1/14 0:00  2/1/14 0:04               401   \n",
       "\n",
       "   start station latitude  start station longitude  end station id  \\\n",
       "0               40.730494               -73.995721             265   \n",
       "1               40.734546               -73.990741             439   \n",
       "2               40.735354               -74.004831             251   \n",
       "3               40.732618               -73.991580             284   \n",
       "4               40.720196               -73.989978             439   \n",
       "\n",
       "   end station latitude  end station longitude  bikeid birth year  gender  \n",
       "0             40.722293             -73.991475   21101       1991       1  \n",
       "1             40.726281             -73.989780   15456       1979       2  \n",
       "2             40.723180             -73.994800   16281       1948       2  \n",
       "3             40.739017             -74.002638   17400       1981       1  \n",
       "4             40.726281             -73.989780   19341       1990       1  "
      ]
     },
     "execution_count": 4,
     "metadata": {},
     "output_type": "execute_result"
    }
   ],
   "source": [
    "df.head()"
   ]
  },
  {
   "cell_type": "code",
   "execution_count": 5,
   "metadata": {},
   "outputs": [
    {
     "data": {
      "text/html": [
       "<div>\n",
       "<style scoped>\n",
       "    .dataframe tbody tr th:only-of-type {\n",
       "        vertical-align: middle;\n",
       "    }\n",
       "\n",
       "    .dataframe tbody tr th {\n",
       "        vertical-align: top;\n",
       "    }\n",
       "\n",
       "    .dataframe thead th {\n",
       "        text-align: right;\n",
       "    }\n",
       "</style>\n",
       "<table border=\"1\" class=\"dataframe\">\n",
       "  <thead>\n",
       "    <tr style=\"text-align: right;\">\n",
       "      <th></th>\n",
       "      <th>tripduration</th>\n",
       "      <th>starttime</th>\n",
       "      <th>stoptime</th>\n",
       "      <th>start station id</th>\n",
       "      <th>start station latitude</th>\n",
       "      <th>start station longitude</th>\n",
       "      <th>end station id</th>\n",
       "      <th>end station latitude</th>\n",
       "      <th>end station longitude</th>\n",
       "      <th>bikeid</th>\n",
       "      <th>birth year</th>\n",
       "      <th>gender</th>\n",
       "    </tr>\n",
       "  </thead>\n",
       "  <tbody>\n",
       "    <tr>\n",
       "      <th>224733</th>\n",
       "      <td>304</td>\n",
       "      <td>2/28/14 23:58</td>\n",
       "      <td>3/1/14 0:03</td>\n",
       "      <td>497</td>\n",
       "      <td>40.737050</td>\n",
       "      <td>-73.990093</td>\n",
       "      <td>334</td>\n",
       "      <td>40.742388</td>\n",
       "      <td>-73.997262</td>\n",
       "      <td>17112</td>\n",
       "      <td>1968</td>\n",
       "      <td>1</td>\n",
       "    </tr>\n",
       "    <tr>\n",
       "      <th>224734</th>\n",
       "      <td>308</td>\n",
       "      <td>2/28/14 23:59</td>\n",
       "      <td>3/1/14 0:04</td>\n",
       "      <td>353</td>\n",
       "      <td>40.685396</td>\n",
       "      <td>-73.974315</td>\n",
       "      <td>365</td>\n",
       "      <td>40.682232</td>\n",
       "      <td>-73.961458</td>\n",
       "      <td>14761</td>\n",
       "      <td>1982</td>\n",
       "      <td>1</td>\n",
       "    </tr>\n",
       "    <tr>\n",
       "      <th>224735</th>\n",
       "      <td>603</td>\n",
       "      <td>2/28/14 23:59</td>\n",
       "      <td>3/1/14 0:09</td>\n",
       "      <td>252</td>\n",
       "      <td>40.732264</td>\n",
       "      <td>-73.998522</td>\n",
       "      <td>475</td>\n",
       "      <td>40.735243</td>\n",
       "      <td>-73.987586</td>\n",
       "      <td>18783</td>\n",
       "      <td>1960</td>\n",
       "      <td>1</td>\n",
       "    </tr>\n",
       "  </tbody>\n",
       "</table>\n",
       "</div>"
      ],
      "text/plain": [
       "        tripduration      starttime     stoptime  start station id  \\\n",
       "224733           304  2/28/14 23:58  3/1/14 0:03               497   \n",
       "224734           308  2/28/14 23:59  3/1/14 0:04               353   \n",
       "224735           603  2/28/14 23:59  3/1/14 0:09               252   \n",
       "\n",
       "        start station latitude  start station longitude  end station id  \\\n",
       "224733               40.737050               -73.990093             334   \n",
       "224734               40.685396               -73.974315             365   \n",
       "224735               40.732264               -73.998522             475   \n",
       "\n",
       "        end station latitude  end station longitude  bikeid birth year  gender  \n",
       "224733             40.742388             -73.997262   17112       1968       1  \n",
       "224734             40.682232             -73.961458   14761       1982       1  \n",
       "224735             40.735243             -73.987586   18783       1960       1  "
      ]
     },
     "execution_count": 5,
     "metadata": {},
     "output_type": "execute_result"
    }
   ],
   "source": [
    "df.tail(3)"
   ]
  },
  {
   "cell_type": "code",
   "execution_count": 6,
   "metadata": {},
   "outputs": [
    {
     "data": {
      "text/plain": [
       "RangeIndex(start=0, stop=224736, step=1)"
      ]
     },
     "execution_count": 6,
     "metadata": {},
     "output_type": "execute_result"
    }
   ],
   "source": [
    "df.index"
   ]
  },
  {
   "cell_type": "code",
   "execution_count": 7,
   "metadata": {},
   "outputs": [
    {
     "data": {
      "text/plain": [
       "Index(['tripduration', 'starttime', 'stoptime', 'start station id',\n",
       "       'start station latitude', 'start station longitude', 'end station id',\n",
       "       'end station latitude', 'end station longitude', 'bikeid', 'birth year',\n",
       "       'gender'],\n",
       "      dtype='object')"
      ]
     },
     "execution_count": 7,
     "metadata": {},
     "output_type": "execute_result"
    }
   ],
   "source": [
    "df.columns"
   ]
  },
  {
   "cell_type": "code",
   "execution_count": null,
   "metadata": {},
   "outputs": [],
   "source": []
  },
  {
   "cell_type": "code",
   "execution_count": 8,
   "metadata": {},
   "outputs": [
    {
     "data": {
      "text/html": [
       "<div>\n",
       "<style scoped>\n",
       "    .dataframe tbody tr th:only-of-type {\n",
       "        vertical-align: middle;\n",
       "    }\n",
       "\n",
       "    .dataframe tbody tr th {\n",
       "        vertical-align: top;\n",
       "    }\n",
       "\n",
       "    .dataframe thead th {\n",
       "        text-align: right;\n",
       "    }\n",
       "</style>\n",
       "<table border=\"1\" class=\"dataframe\">\n",
       "  <thead>\n",
       "    <tr style=\"text-align: right;\">\n",
       "      <th></th>\n",
       "      <th>tripduration</th>\n",
       "      <th>start station id</th>\n",
       "      <th>start station latitude</th>\n",
       "      <th>start station longitude</th>\n",
       "      <th>end station id</th>\n",
       "      <th>end station latitude</th>\n",
       "      <th>end station longitude</th>\n",
       "      <th>bikeid</th>\n",
       "      <th>gender</th>\n",
       "    </tr>\n",
       "  </thead>\n",
       "  <tbody>\n",
       "    <tr>\n",
       "      <th>count</th>\n",
       "      <td>224736.000000</td>\n",
       "      <td>224736.000000</td>\n",
       "      <td>224736.000000</td>\n",
       "      <td>224736.000000</td>\n",
       "      <td>224736.000000</td>\n",
       "      <td>224736.000000</td>\n",
       "      <td>224736.000000</td>\n",
       "      <td>224736.000000</td>\n",
       "      <td>224736.000000</td>\n",
       "    </tr>\n",
       "    <tr>\n",
       "      <th>mean</th>\n",
       "      <td>874.519810</td>\n",
       "      <td>439.203479</td>\n",
       "      <td>40.734366</td>\n",
       "      <td>-73.990386</td>\n",
       "      <td>440.741995</td>\n",
       "      <td>40.734221</td>\n",
       "      <td>-73.990521</td>\n",
       "      <td>18010.598222</td>\n",
       "      <td>1.154617</td>\n",
       "    </tr>\n",
       "    <tr>\n",
       "      <th>std</th>\n",
       "      <td>5486.092219</td>\n",
       "      <td>335.723861</td>\n",
       "      <td>0.019031</td>\n",
       "      <td>0.011853</td>\n",
       "      <td>341.497433</td>\n",
       "      <td>0.019048</td>\n",
       "      <td>0.011920</td>\n",
       "      <td>1987.769335</td>\n",
       "      <td>0.436592</td>\n",
       "    </tr>\n",
       "    <tr>\n",
       "      <th>min</th>\n",
       "      <td>60.000000</td>\n",
       "      <td>72.000000</td>\n",
       "      <td>40.680342</td>\n",
       "      <td>-74.017134</td>\n",
       "      <td>72.000000</td>\n",
       "      <td>40.680342</td>\n",
       "      <td>-74.017134</td>\n",
       "      <td>14529.000000</td>\n",
       "      <td>0.000000</td>\n",
       "    </tr>\n",
       "    <tr>\n",
       "      <th>25%</th>\n",
       "      <td>360.000000</td>\n",
       "      <td>305.000000</td>\n",
       "      <td>40.721854</td>\n",
       "      <td>-73.998522</td>\n",
       "      <td>305.000000</td>\n",
       "      <td>40.721816</td>\n",
       "      <td>-73.999061</td>\n",
       "      <td>16302.000000</td>\n",
       "      <td>1.000000</td>\n",
       "    </tr>\n",
       "    <tr>\n",
       "      <th>50%</th>\n",
       "      <td>544.000000</td>\n",
       "      <td>403.000000</td>\n",
       "      <td>40.736197</td>\n",
       "      <td>-73.990617</td>\n",
       "      <td>403.000000</td>\n",
       "      <td>40.735877</td>\n",
       "      <td>-73.990741</td>\n",
       "      <td>17975.000000</td>\n",
       "      <td>1.000000</td>\n",
       "    </tr>\n",
       "    <tr>\n",
       "      <th>75%</th>\n",
       "      <td>845.000000</td>\n",
       "      <td>490.000000</td>\n",
       "      <td>40.749156</td>\n",
       "      <td>-73.981918</td>\n",
       "      <td>488.000000</td>\n",
       "      <td>40.749013</td>\n",
       "      <td>-73.981948</td>\n",
       "      <td>19689.000000</td>\n",
       "      <td>1.000000</td>\n",
       "    </tr>\n",
       "    <tr>\n",
       "      <th>max</th>\n",
       "      <td>766108.000000</td>\n",
       "      <td>3002.000000</td>\n",
       "      <td>40.770513</td>\n",
       "      <td>-73.950048</td>\n",
       "      <td>3002.000000</td>\n",
       "      <td>40.770513</td>\n",
       "      <td>-73.950048</td>\n",
       "      <td>21542.000000</td>\n",
       "      <td>2.000000</td>\n",
       "    </tr>\n",
       "  </tbody>\n",
       "</table>\n",
       "</div>"
      ],
      "text/plain": [
       "        tripduration  start station id  start station latitude  \\\n",
       "count  224736.000000     224736.000000           224736.000000   \n",
       "mean      874.519810        439.203479               40.734366   \n",
       "std      5486.092219        335.723861                0.019031   \n",
       "min        60.000000         72.000000               40.680342   \n",
       "25%       360.000000        305.000000               40.721854   \n",
       "50%       544.000000        403.000000               40.736197   \n",
       "75%       845.000000        490.000000               40.749156   \n",
       "max    766108.000000       3002.000000               40.770513   \n",
       "\n",
       "       start station longitude  end station id  end station latitude  \\\n",
       "count            224736.000000   224736.000000         224736.000000   \n",
       "mean                -73.990386      440.741995             40.734221   \n",
       "std                   0.011853      341.497433              0.019048   \n",
       "min                 -74.017134       72.000000             40.680342   \n",
       "25%                 -73.998522      305.000000             40.721816   \n",
       "50%                 -73.990617      403.000000             40.735877   \n",
       "75%                 -73.981918      488.000000             40.749013   \n",
       "max                 -73.950048     3002.000000             40.770513   \n",
       "\n",
       "       end station longitude         bikeid         gender  \n",
       "count          224736.000000  224736.000000  224736.000000  \n",
       "mean              -73.990521   18010.598222       1.154617  \n",
       "std                 0.011920    1987.769335       0.436592  \n",
       "min               -74.017134   14529.000000       0.000000  \n",
       "25%               -73.999061   16302.000000       1.000000  \n",
       "50%               -73.990741   17975.000000       1.000000  \n",
       "75%               -73.981948   19689.000000       1.000000  \n",
       "max               -73.950048   21542.000000       2.000000  "
      ]
     },
     "execution_count": 8,
     "metadata": {},
     "output_type": "execute_result"
    }
   ],
   "source": [
    "df.describe()"
   ]
  },
  {
   "cell_type": "code",
   "execution_count": 13,
   "metadata": {},
   "outputs": [],
   "source": [
    "sample = df[df['gender']!=0]"
   ]
  },
  {
   "cell_type": "code",
   "execution_count": 20,
   "metadata": {},
   "outputs": [
    {
     "ename": "SyntaxError",
     "evalue": "(unicode error) 'unicodeescape' codec can't decode bytes in position 0-1: malformed \\N character escape (<ipython-input-20-1656ada2a935>, line 1)",
     "output_type": "error",
     "traceback": [
      "\u001b[0;36m  File \u001b[0;32m\"<ipython-input-20-1656ada2a935>\"\u001b[0;36m, line \u001b[0;32m1\u001b[0m\n\u001b[0;31m    df['bikeid' == '\\N'].sum()\u001b[0m\n\u001b[0m                  ^\u001b[0m\n\u001b[0;31mSyntaxError\u001b[0m\u001b[0;31m:\u001b[0m (unicode error) 'unicodeescape' codec can't decode bytes in position 0-1: malformed \\N character escape\n"
     ]
    }
   ],
   "source": [
    "df['bikeid' == '\\N'].sum()"
   ]
  },
  {
   "cell_type": "code",
   "execution_count": null,
   "metadata": {},
   "outputs": [],
   "source": []
  }
 ],
 "metadata": {
  "kernelspec": {
   "display_name": "Python 3",
   "language": "python",
   "name": "python3"
  },
  "language_info": {
   "codemirror_mode": {
    "name": "ipython",
    "version": 3
   },
   "file_extension": ".py",
   "mimetype": "text/x-python",
   "name": "python",
   "nbconvert_exporter": "python",
   "pygments_lexer": "ipython3",
   "version": "3.7.4"
  }
 },
 "nbformat": 4,
 "nbformat_minor": 2
}
